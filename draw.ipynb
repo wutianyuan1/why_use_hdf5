{
 "cells": [
  {
   "cell_type": "code",
   "execution_count": null,
   "metadata": {},
   "outputs": [],
   "source": [
    "import matplotlib.pyplot as plt\n",
    "import numpy as np\n",
    "\n",
    "t_h5 = [7.55187, 13.1245, 6.49188, 38.3616]\n",
    "t_fs = [3.86809, 2.25733, 6.29823, 26.4354]\n",
    "labels = ['mkgrp', 'mkgrp-par', 'wrt-shared-par', 'wrt-indep-par']\n",
    "ax = plt.gca()\n",
    "ax.set_axisbelow(True)\n",
    "ax.grid(axis='y', linestyle='-.')\n",
    "for a, b in zip(np.arange(4), t_h5):\n",
    "    ax.text(a, b + 0.05, '%.2f' % b, ha='center', va='bottom', fontsize=10)\n",
    "for a, b in zip(np.arange(4)+0.4, t_fs):\n",
    "    ax.text(a, b + 0.05, '%.2f' % b, ha='center', va='bottom', fontsize=10)\n",
    "ax.bar(np.arange(4), t_h5, width=0.4, color='black', edgecolor='#000000', alpha=0.8)\n",
    "ax.bar(np.arange(4)+0.4, t_fs, width=0.4, color='#f5ffdc', edgecolor='#000000', alpha=0.5)\n",
    "ax.bar(np.arange(4)+0.2, [0,0,0,0], width=0.001, tick_label=labels)\n",
    "ax.set_xlabel(\"Methods\"),\n",
    "ax.set_ylabel(\"Operation Time / s\"),\n",
    "ax.set_title(\"Operation Time: PHDF5 vs. Native I/O\")\n",
    "ax.legend([\"PHDF5\", \"Native I/O\"])\n",
    "plt.savefig(\"optime.png\")"
   ]
  }
 ],
 "metadata": {
  "interpreter": {
   "hash": "31f2aee4e71d21fbe5cf8b01ff0e069b9275f58929596ceb00d14d90e3e16cd6"
  },
  "kernelspec": {
   "display_name": "Python 3.8.10 64-bit",
   "language": "python",
   "name": "python3"
  },
  "language_info": {
   "codemirror_mode": {
    "name": "ipython",
    "version": 3
   },
   "file_extension": ".py",
   "mimetype": "text/x-python",
   "name": "python",
   "nbconvert_exporter": "python",
   "pygments_lexer": "ipython3",
   "version": "3.6.8"
  },
  "orig_nbformat": 4
 },
 "nbformat": 4,
 "nbformat_minor": 2
}
